{
 "cells": [
  {
   "cell_type": "code",
   "execution_count": 7,
   "id": "621e2f9c",
   "metadata": {},
   "outputs": [],
   "source": [
    "import re\n",
    "import string\n",
    "string.punctuation\n",
    "from nltk.corpus import stopwords\n",
    "from nltk.tokenize import word_tokenize\n",
    "import nltk\n",
    "from nltk.stem import WordNetLemmatizer\n",
    "import pandas as pd"
   ]
  },
  {
   "cell_type": "code",
   "execution_count": 2,
   "id": "0e153d65",
   "metadata": {},
   "outputs": [],
   "source": [
    "def clean_text(text):\n",
    "    \n",
    "    #remove headers like [Chorus] etc\n",
    "    headers = re.findall(r\"\\[(.*?)\\]\", text)\n",
    "    for header in headers:\n",
    "        text = text.replace(header, ' ')\n",
    "        \n",
    "    #separate lower/upper case words (like 'needHow')\n",
    "    text = re.findall('[A-Z][^A-Z]*', text)\n",
    "    text = \" \".join(text)\n",
    "    \n",
    "    #remove punctuation\n",
    "    exclude = string.punctuation + \"’”“\"\n",
    "    for punctuation in exclude:\n",
    "           text = text.replace(punctuation, '')\n",
    "    \n",
    "    #turn text into lowercase\n",
    "    text = text.lower()\n",
    "    \n",
    "    #remove numericals\n",
    "    text = ''.join(word for word in text if not word.isdigit())\n",
    "    \n",
    "    #remove stopwords\n",
    "    stop_words = set(stopwords.words('english'))\n",
    "\n",
    "    #tokenise\n",
    "    word_tokens = word_tokenize(text)\n",
    "    text = [w for w in word_tokens if not w in stop_words]\n",
    "    \n",
    "    #lemmatise\n",
    "    lemmatizer = WordNetLemmatizer()\n",
    "    lemmatized = [lemmatizer.lemmatize(word) for word in text]\n",
    "    text = lemmatized\n",
    "\n",
    "    text = ' '.join(text)\n",
    "        \n",
    "    #rejoin \"wan na\" to \"wanna\"\n",
    "    wannas = re.findall(r\"wan na\", text)\n",
    "    for wanna in wannas: \n",
    "        text = text.replace(wanna, \"wanna\")\n",
    "        \n",
    "    return text"
   ]
  },
  {
   "cell_type": "code",
   "execution_count": 3,
   "id": "ed2594e9",
   "metadata": {},
   "outputs": [],
   "source": [
    "lyrics = \"[Verse 1] Ooh, yeah, you did me so bad\\\n",
    "When I was in the moment\\\n",
    "Well, I didn't understand\\\n",
    "Ooh, yeah, you did me so harsh\\\n",
    "Left me low with my high heels in the parking lot\\\n",
    "\\\n",
    "[Pre-Chorus]\\\n",
    "Always thought I'd see it coming (Mm)\\\n",
    "But I don't\\\n",
    "Gotta leave the engine running in the front seat\\\n",
    "In my mama's winter coat\\\n",
    "\\\n",
    "[Chorus]\\\n",
    "I don't wanna give up on you\\\n",
    "I don't wanna, don't wanna\\\n",
    "I don't wanna have to\\\n",
    "Well, we both have nights\\\n",
    "Waking up in strangers' beds\\\n",
    "But I don't wanna, don't wanna\\\n",
    "I don't wanna give up yet\\\n",
    "\\\n",
    "[Verse 2]\\\n",
    "Ooh, yeah, it's still early days\\\n",
    "Don't know what I mean to you\\\n",
    "I don't know what to say\\\n",
    "Ooh, yeah, don't walk away\\\n",
    "Don't look at me like that 'cause my mind's 'bout to change\\\n",
    "[Pre-Chorus]\\\n",
    "Can't believe that I'm nervous (Mm)\\\n",
    "Face-to-face\\\n",
    "All our problems on the surface, is it worth this?\\\n",
    "I don't think it's too late\\\n",
    "\\\n",
    "[Chorus]\\\n",
    "I don't wanna give up on you\\\n",
    "I don't wanna, don't wanna\\\n",
    "I don't wanna have to\\\n",
    "Well, we both have nights\\\n",
    "Waking up in strangers' beds\\\n",
    "But I don't wanna, don't wanna\\\n",
    "I don't wanna give up yet\""
   ]
  },
  {
   "cell_type": "code",
   "execution_count": 4,
   "id": "9e3494b7",
   "metadata": {},
   "outputs": [],
   "source": [
    "lyrics2 = \"Please save a kid that needs some helpAnd I can’t begin to think of anything that could helpBut the weed is guaranteed, indeed, just what I needHow I feel, upon a time, so recent in time, made me sadWhen I recollect how it used to beLike David and Goliath, kinda like meAnd the Devil tryna rip out my soulTryna catch a nigga on sleep, no-noYou can try again and I’ll be readyWon’t let you kill me in my dream like Freddy KruegerNo, I’m not no loser, I’ll see you in Hell[Chorus]At the end of the day, dayMy mama told me don’t let no one break me, let no one break me(Yeah, yeah, yeah, no)At the end of the day, dayNobody, nobody ever could stop me, ever could stop me(Yeah, yeah, no)At the end of the day, dayYou can’t regret it if you were trying, if you were trying(Yeah, yeah, no)At the end of the day, dayI’m walking with a heart of a lion, yeah”, “[Verse 2]Please save a kid that needs some helpAnd I can’t see ahead of me so I move in stealthHide and seek within a dream I seem to glide above my horrorThough I feel I’ll never be complete inside the dark I borrowTo proceed and remain intact my mental is so unstableAnd they talk and judge a manThey have no clue of what I’m capable’Til I show a side of me no one had thought could be withinI told you, no I’m not a loser, I’ll see you in Hell[Chorus]At the end of the day, dayMy mama told me don’t let no one break me, let no one break me(Yeah, yeah, yeah, no)At the end of the day, dayNobody, nobody ever could stop me, ever could stop me(Yeah, yeah, no)At the end of the day, dayYou can’t regret it if you were trying, if you were trying(Yeah, yeah, no)At the end of the day, dayI’m walking with a heart of a lion, yeah[Bridge]No, no, no, no, no, no, noThe heart of a lion, the heart of a lionYeah, no, yeah (Yeah)No, no, no, no, no, no, noThe heart of a lionYeah, no, yeah (Yeah)No, no, no, no, no, no, noThe heart of a lion, the heart of a lionYeah, no, yeah (Yeah)No, no, no, no, no, no, noYeah, no, yeah (Yeah)“, “[Verse 3]I’m just a kid who needs no helpI’ve achieved a bigger thingNo cash or check could be more blessedAnd if you had ever seen the things I’ve seen up in my slumberYou’d be shook, stay awakeNo need to run, your fate would followYou should know, not for the faint at heartThis world understands no cowardIt’s a goal, a simple code, I stay on the grind to the 25th hourAnd I know the fight in me is somewhere hiding deep withinI told you, no, I’ll never let you drag me down to Hell[Chorus]At the end of the day, dayMy mama told me don’t let no one break me, let no one break me(Yeah, yeah, yeah, no)At the end of the day, dayNobody, nobody ever could stop me, ever could stop me(Yeah, yeah, no)At the end of the day, dayYou can’t regret it if you were trying, if you were tryingAt the end of the day, day(Yeah, yeah, no)I’m walking with a heart of a lion, yeah”, ‘[Outro]No, no, no, no, no, no, noYeah, no, yeah (Yeah)No, no, no, no, no, no, noYeah, no, yeah (Yeah)No, no, no, no, no, no, noYeah, no, yeah (Yeah)No, no, no, no, no, no, noYeah, no, yeah (Yeah)Yeah, yeah, yeah...\""
   ]
  },
  {
   "cell_type": "code",
   "execution_count": 13,
   "id": "7d985be1",
   "metadata": {},
   "outputs": [],
   "source": [
    "X = pd.DataFrame([[lyrics]])"
   ]
  },
  {
   "cell_type": "code",
   "execution_count": 14,
   "id": "2c7dcb60",
   "metadata": {},
   "outputs": [
    {
     "data": {
      "text/html": [
       "<div>\n",
       "<style scoped>\n",
       "    .dataframe tbody tr th:only-of-type {\n",
       "        vertical-align: middle;\n",
       "    }\n",
       "\n",
       "    .dataframe tbody tr th {\n",
       "        vertical-align: top;\n",
       "    }\n",
       "\n",
       "    .dataframe thead th {\n",
       "        text-align: right;\n",
       "    }\n",
       "</style>\n",
       "<table border=\"1\" class=\"dataframe\">\n",
       "  <thead>\n",
       "    <tr style=\"text-align: right;\">\n",
       "      <th></th>\n",
       "      <th>0</th>\n",
       "    </tr>\n",
       "  </thead>\n",
       "  <tbody>\n",
       "    <tr>\n",
       "      <th>0</th>\n",
       "      <td>[Verse 1] Ooh, yeah, you did me so badWhen I w...</td>\n",
       "    </tr>\n",
       "  </tbody>\n",
       "</table>\n",
       "</div>"
      ],
      "text/plain": [
       "                                                   0\n",
       "0  [Verse 1] Ooh, yeah, you did me so badWhen I w..."
      ]
     },
     "execution_count": 14,
     "metadata": {},
     "output_type": "execute_result"
    }
   ],
   "source": [
    "X"
   ]
  },
  {
   "cell_type": "code",
   "execution_count": 15,
   "id": "d217baa1",
   "metadata": {},
   "outputs": [
    {
     "ename": "TypeError",
     "evalue": "expected string or bytes-like object",
     "output_type": "error",
     "traceback": [
      "\u001b[0;31m---------------------------------------------------------------------------\u001b[0m",
      "\u001b[0;31mTypeError\u001b[0m                                 Traceback (most recent call last)",
      "Input \u001b[0;32mIn [15]\u001b[0m, in \u001b[0;36m<cell line: 1>\u001b[0;34m()\u001b[0m\n\u001b[0;32m----> 1\u001b[0m \u001b[43mclean_text\u001b[49m\u001b[43m(\u001b[49m\u001b[43mX\u001b[49m\u001b[43m)\u001b[49m\n",
      "Input \u001b[0;32mIn [2]\u001b[0m, in \u001b[0;36mclean_text\u001b[0;34m(text)\u001b[0m\n\u001b[1;32m      1\u001b[0m \u001b[38;5;28;01mdef\u001b[39;00m \u001b[38;5;21mclean_text\u001b[39m(text):\n\u001b[1;32m      2\u001b[0m     \n\u001b[1;32m      3\u001b[0m     \u001b[38;5;66;03m#remove headers like [Chorus] etc\u001b[39;00m\n\u001b[0;32m----> 4\u001b[0m     headers \u001b[38;5;241m=\u001b[39m \u001b[43mre\u001b[49m\u001b[38;5;241;43m.\u001b[39;49m\u001b[43mfindall\u001b[49m\u001b[43m(\u001b[49m\u001b[38;5;124;43mr\u001b[39;49m\u001b[38;5;124;43m\"\u001b[39;49m\u001b[38;5;124;43m\\\u001b[39;49m\u001b[38;5;124;43m[(.*?)\u001b[39;49m\u001b[38;5;124;43m\\\u001b[39;49m\u001b[38;5;124;43m]\u001b[39;49m\u001b[38;5;124;43m\"\u001b[39;49m\u001b[43m,\u001b[49m\u001b[43m \u001b[49m\u001b[43mtext\u001b[49m\u001b[43m)\u001b[49m\n\u001b[1;32m      5\u001b[0m     \u001b[38;5;28;01mfor\u001b[39;00m header \u001b[38;5;129;01min\u001b[39;00m headers:\n\u001b[1;32m      6\u001b[0m         text \u001b[38;5;241m=\u001b[39m text\u001b[38;5;241m.\u001b[39mreplace(header, \u001b[38;5;124m'\u001b[39m\u001b[38;5;124m \u001b[39m\u001b[38;5;124m'\u001b[39m)\n",
      "File \u001b[0;32m~/.pyenv/versions/3.8.12/lib/python3.8/re.py:241\u001b[0m, in \u001b[0;36mfindall\u001b[0;34m(pattern, string, flags)\u001b[0m\n\u001b[1;32m    233\u001b[0m \u001b[38;5;28;01mdef\u001b[39;00m \u001b[38;5;21mfindall\u001b[39m(pattern, string, flags\u001b[38;5;241m=\u001b[39m\u001b[38;5;241m0\u001b[39m):\n\u001b[1;32m    234\u001b[0m     \u001b[38;5;124;03m\"\"\"Return a list of all non-overlapping matches in the string.\u001b[39;00m\n\u001b[1;32m    235\u001b[0m \n\u001b[1;32m    236\u001b[0m \u001b[38;5;124;03m    If one or more capturing groups are present in the pattern, return\u001b[39;00m\n\u001b[0;32m   (...)\u001b[0m\n\u001b[1;32m    239\u001b[0m \n\u001b[1;32m    240\u001b[0m \u001b[38;5;124;03m    Empty matches are included in the result.\"\"\"\u001b[39;00m\n\u001b[0;32m--> 241\u001b[0m     \u001b[38;5;28;01mreturn\u001b[39;00m \u001b[43m_compile\u001b[49m\u001b[43m(\u001b[49m\u001b[43mpattern\u001b[49m\u001b[43m,\u001b[49m\u001b[43m \u001b[49m\u001b[43mflags\u001b[49m\u001b[43m)\u001b[49m\u001b[38;5;241;43m.\u001b[39;49m\u001b[43mfindall\u001b[49m\u001b[43m(\u001b[49m\u001b[43mstring\u001b[49m\u001b[43m)\u001b[49m\n",
      "\u001b[0;31mTypeError\u001b[0m: expected string or bytes-like object"
     ]
    }
   ],
   "source": [
    "clean_text(X)"
   ]
  },
  {
   "cell_type": "code",
   "execution_count": 155,
   "id": "277f6be7",
   "metadata": {
    "scrolled": false
   },
   "outputs": [
    {
     "data": {
      "text/plain": [
       "'please save kid need help cant begin think anything could help weed guaranteed indeed need feel upon time recent time made sad recollect used like david goliath kinda like devil tryna rip soul tryna catch nigga sleep nono try ill ready wont let kill dream like freddy krueger im loser ill see hell end day day mama told dont let one break let one break yeah yeah yeah end day day nobody nobody ever could stop ever could stop yeah yeah end day day cant regret trying trying yeah yeah end day day im walking heart lion yeah please save kid need help cant see ahead move stealth hide seek within dream seem glide horror though feel ill never complete inside dark borrow proceed remain intact mental unstable talk judge man clue im capable til show side one thought could within told im loser ill see hell end day day mama told dont let one break let one break yeah yeah yeah end day day nobody nobody ever could stop ever could stop yeah yeah end day day cant regret trying trying yeah yeah end day day im walking heart lion yeah heart lion heart lion yeah yeah yeah heart lion yeah yeah yeah heart lion heart lion yeah yeah yeah yeah yeah yeah im kid need help ive achieved bigger thing cash check could blessed ever seen thing ive seen slumber youd shook stay awake need run fate would follow know faint heart world understands coward goal simple code stay grind th hour know fight somewhere hiding deep within told ill never let drag hell end day day mama told dont let one break let one break yeah yeah yeah end day day nobody nobody ever could stop ever could stop yeah yeah end day day cant regret trying trying end day day yeah yeah im walking heart lion yeah ‘ yeah yeah yeah yeah yeah yeah yeah yeah yeah yeah yeah yeah yeah yeah yeah'"
      ]
     },
     "execution_count": 155,
     "metadata": {},
     "output_type": "execute_result"
    }
   ],
   "source": [
    "clean_text(lyrics2)"
   ]
  }
 ],
 "metadata": {
  "kernelspec": {
   "display_name": "Python 3 (ipykernel)",
   "language": "python",
   "name": "python3"
  },
  "language_info": {
   "codemirror_mode": {
    "name": "ipython",
    "version": 3
   },
   "file_extension": ".py",
   "mimetype": "text/x-python",
   "name": "python",
   "nbconvert_exporter": "python",
   "pygments_lexer": "ipython3",
   "version": "3.8.12"
  },
  "toc": {
   "base_numbering": 1,
   "nav_menu": {},
   "number_sections": true,
   "sideBar": true,
   "skip_h1_title": false,
   "title_cell": "Table of Contents",
   "title_sidebar": "Contents",
   "toc_cell": false,
   "toc_position": {},
   "toc_section_display": true,
   "toc_window_display": false
  }
 },
 "nbformat": 4,
 "nbformat_minor": 5
}
