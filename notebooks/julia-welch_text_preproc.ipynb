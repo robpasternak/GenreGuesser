{
 "cells": [
  {
   "cell_type": "code",
   "execution_count": 87,
   "id": "33eabc96",
   "metadata": {},
   "outputs": [],
   "source": [
    "import re\n",
    "import string\n",
    "string.punctuation\n",
    "from nltk.corpus import stopwords\n",
    "from nltk.tokenize import word_tokenize\n",
    "import nltk\n",
    "from nltk.stem import WordNetLemmatizer"
   ]
  },
  {
   "cell_type": "code",
   "execution_count": 129,
   "id": "6578e823",
   "metadata": {},
   "outputs": [],
   "source": [
    "def clean_text(text):\n",
    "    #separate lower/upper case words (like 'needHow')\n",
    "    text = re.findall('[A-Z][^A-Z]*', text)\n",
    "    text = \" \".join(text)\n",
    "    \n",
    "    #remove headers like [Chorus] etc\n",
    "    pattern = r\"\\[(.*?)\\]\"\n",
    "    headers = re.findall(pattern, text)\n",
    "    for header in headers:\n",
    "        to_search = text.replace(header, ' ')\n",
    "    \n",
    "    #remove punctuation\n",
    "    exclude = string.punctuation + \"’”“\"\n",
    "    for punctuation in exclude:\n",
    "           text = text.replace(punctuation, '')\n",
    "    \n",
    "    #turn text into lowercase\n",
    "    text = text.lower()\n",
    "    \n",
    "    #remove numericals\n",
    "    text = ''.join(word for word in text if not word.isdigit())\n",
    "    \n",
    "    #remove stopwords\n",
    "    stop_words = set(stopwords.words('english'))\n",
    "    \n",
    "    #tokenise\n",
    "    word_tokens = word_tokenize(text)\n",
    "    text = [w for w in word_tokens if not w in stop_words]\n",
    "    \n",
    "    #lemmatise\n",
    "    lemmatizer = WordNetLemmatizer()\n",
    "    lemmatized = [lemmatizer.lemmatize(word) for word in text]\n",
    "    text = lemmatized\n",
    "    text = ' '.join(text)\n",
    "    return text"
   ]
  },
  {
   "cell_type": "code",
   "execution_count": 131,
   "id": "8dfb047c",
   "metadata": {},
   "outputs": [],
   "source": [
    "lyrics = \"[Verse 1]\\\n",
    "Ooh, yeah, you did me so bad\\\n",
    "When I was in the moment\\\n",
    "Well, I didn't understand\\\n",
    "Ooh, yeah, you did me so harsh\\\n",
    "Left me low with my high heels in the parking lot\\\n",
    "\\\n",
    "[Pre-Chorus]\\\n",
    "Always thought I'd see it coming (Mm)\\\n",
    "But I don't\\\n",
    "Gotta leave the engine running in the front seat\\\n",
    "In my mama's winter coat\\\n",
    "\\\n",
    "[Chorus]\\\n",
    "I don't wanna give up on you\\\n",
    "I don't wanna, don't wanna\\\n",
    "I don't wanna have to\\\n",
    "Well, we both have nights\\\n",
    "Waking up in strangers' beds\\\n",
    "But I don't wanna, don't wanna\\\n",
    "I don't wanna give up yet\\\n",
    "\\\n",
    "[Verse 2]\\\n",
    "Ooh, yeah, it's still early days\\\n",
    "Don't know what I mean to you\\\n",
    "I don't know what to say\\\n",
    "Ooh, yeah, don't walk away\\\n",
    "Don't look at me like that 'cause my mind's 'bout to change\\\n",
    "[Pre-Chorus]\\\n",
    "Can't believe that I'm nervous (Mm)\\\n",
    "Face-to-face\\\n",
    "All our problems on the surface, is it worth this?\\\n",
    "I don't think it's too late\\\n",
    "\\\n",
    "[Chorus]\\\n",
    "I don't wanna give up on you\\\n",
    "I don't wanna, don't wanna\\\n",
    "I don't wanna have to\\\n",
    "Well, we both have nights\\\n",
    "Waking up in strangers' beds\\\n",
    "But I don't wanna, don't wanna\\\n",
    "I don't wanna give up yet\""
   ]
  },
  {
   "cell_type": "code",
   "execution_count": 127,
   "id": "b3f76f2c",
   "metadata": {},
   "outputs": [],
   "source": [
    "lyrics2 = \"Please save a kid that needs some helpAnd I can’t begin to think of anything that could helpBut the weed is guaranteed, indeed, just what I needHow I feel, upon a time, so recent in time, made me sadWhen I recollect how it used to beLike David and Goliath, kinda like meAnd the Devil tryna rip out my soulTryna catch a nigga on sleep, no-noYou can try again and I’ll be readyWon’t let you kill me in my dream like Freddy KruegerNo, I’m not no loser, I’ll see you in Hell[Chorus]At the end of the day, dayMy mama told me don’t let no one break me, let no one break me(Yeah, yeah, yeah, no)At the end of the day, dayNobody, nobody ever could stop me, ever could stop me(Yeah, yeah, no)At the end of the day, dayYou can’t regret it if you were trying, if you were trying(Yeah, yeah, no)At the end of the day, dayI’m walking with a heart of a lion, yeah”, “[Verse 2]Please save a kid that needs some helpAnd I can’t see ahead of me so I move in stealthHide and seek within a dream I seem to glide above my horrorThough I feel I’ll never be complete inside the dark I borrowTo proceed and remain intact my mental is so unstableAnd they talk and judge a manThey have no clue of what I’m capable’Til I show a side of me no one had thought could be withinI told you, no I’m not a loser, I’ll see you in Hell[Chorus]At the end of the day, dayMy mama told me don’t let no one break me, let no one break me(Yeah, yeah, yeah, no)At the end of the day, dayNobody, nobody ever could stop me, ever could stop me(Yeah, yeah, no)At the end of the day, dayYou can’t regret it if you were trying, if you were trying(Yeah, yeah, no)At the end of the day, dayI’m walking with a heart of a lion, yeah[Bridge]No, no, no, no, no, no, noThe heart of a lion, the heart of a lionYeah, no, yeah (Yeah)No, no, no, no, no, no, noThe heart of a lionYeah, no, yeah (Yeah)No, no, no, no, no, no, noThe heart of a lion, the heart of a lionYeah, no, yeah (Yeah)No, no, no, no, no, no, noYeah, no, yeah (Yeah)“, “[Verse 3]I’m just a kid who needs no helpI’ve achieved a bigger thingNo cash or check could be more blessedAnd if you had ever seen the things I’ve seen up in my slumberYou’d be shook, stay awakeNo need to run, your fate would followYou should know, not for the faint at heartThis world understands no cowardIt’s a goal, a simple code, I stay on the grind to the 25th hourAnd I know the fight in me is somewhere hiding deep withinI told you, no, I’ll never let you drag me down to Hell[Chorus]At the end of the day, dayMy mama told me don’t let no one break me, let no one break me(Yeah, yeah, yeah, no)At the end of the day, dayNobody, nobody ever could stop me, ever could stop me(Yeah, yeah, no)At the end of the day, dayYou can’t regret it if you were trying, if you were tryingAt the end of the day, day(Yeah, yeah, no)I’m walking with a heart of a lion, yeah”, ‘[Outro]No, no, no, no, no, no, noYeah, no, yeah (Yeah)No, no, no, no, no, no, noYeah, no, yeah (Yeah)No, no, no, no, no, no, noYeah, no, yeah (Yeah)No, no, no, no, no, no, noYeah, no, yeah (Yeah)Yeah, yeah, yeah...\""
   ]
  },
  {
   "cell_type": "code",
   "execution_count": 132,
   "id": "ec8e3a22",
   "metadata": {},
   "outputs": [
    {
     "data": {
      "text/plain": [
       "'verse ooh yeah bad moment well didnt understand ooh yeah harsh left low high heel parking lot pre chorus always thought id see coming mm dont got ta leave engine running front seat mama winter coat chorus dont wan na give dont wan na dont wan na dont wan na well night waking stranger bed dont wan na dont wan na dont wan na give yet verse ooh yeah still early day dont know mean dont know say ooh yeah dont walk away dont look like cause mind bout change pre chorus cant believe im nervous mm facetoface problem surface worth dont think late chorus dont wan na give dont wan na dont wan na dont wan na well night waking stranger bed dont wan na dont wan na dont wan na give yet'"
      ]
     },
     "execution_count": 132,
     "metadata": {},
     "output_type": "execute_result"
    }
   ],
   "source": [
    "clean_text(lyrics)"
   ]
  },
  {
   "cell_type": "code",
   "execution_count": 130,
   "id": "324c6307",
   "metadata": {
    "scrolled": true
   },
   "outputs": [
    {
     "data": {
      "text/plain": [
       "'please save kid need help cant begin think anything could help weed guaranteed indeed need feel upon time recent time made sad recollect used like david goliath kinda like devil tryna rip soul tryna catch nigga sleep nono try ill ready wont let kill dream like freddy krueger im loser ill see hell chorus end day day mama told dont let one break let one break yeah yeah yeah end day day nobody nobody ever could stop ever could stop yeah yeah end day day cant regret trying trying yeah yeah end day day im walking heart lion yeah verse please save kid need help cant see ahead move stealth hide seek within dream seem glide horror though feel ill never complete inside dark borrow proceed remain intact mental unstable talk judge man clue im capable til show side one thought could within told im loser ill see hell chorus end day day mama told dont let one break let one break yeah yeah yeah end day day nobody nobody ever could stop ever could stop yeah yeah end day day cant regret trying trying yeah yeah end day day im walking heart lion yeah bridge heart lion heart lion yeah yeah yeah heart lion yeah yeah yeah heart lion heart lion yeah yeah yeah yeah yeah yeah verse im kid need help ive achieved bigger thing cash check could blessed ever seen thing ive seen slumber youd shook stay awake need run fate would follow know faint heart world understands coward goal simple code stay grind th hour know fight somewhere hiding deep within told ill never let drag hell chorus end day day mama told dont let one break let one break yeah yeah yeah end day day nobody nobody ever could stop ever could stop yeah yeah end day day cant regret trying trying end day day yeah yeah im walking heart lion yeah ‘ outro yeah yeah yeah yeah yeah yeah yeah yeah yeah yeah yeah yeah yeah yeah yeah'"
      ]
     },
     "execution_count": 130,
     "metadata": {},
     "output_type": "execute_result"
    }
   ],
   "source": [
    "clean_text(lyrics2)"
   ]
  }
 ],
 "metadata": {
  "kernelspec": {
   "display_name": "Python 3 (ipykernel)",
   "language": "python",
   "name": "python3"
  },
  "language_info": {
   "codemirror_mode": {
    "name": "ipython",
    "version": 3
   },
   "file_extension": ".py",
   "mimetype": "text/x-python",
   "name": "python",
   "nbconvert_exporter": "python",
   "pygments_lexer": "ipython3",
   "version": "3.8.12"
  },
  "toc": {
   "base_numbering": 1,
   "nav_menu": {},
   "number_sections": true,
   "sideBar": true,
   "skip_h1_title": false,
   "title_cell": "Table of Contents",
   "title_sidebar": "Contents",
   "toc_cell": false,
   "toc_position": {},
   "toc_section_display": true,
   "toc_window_display": false
  }
 },
 "nbformat": 4,
 "nbformat_minor": 5
}
