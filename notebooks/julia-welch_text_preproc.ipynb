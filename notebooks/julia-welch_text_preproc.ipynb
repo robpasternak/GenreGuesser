{
 "cells": [
  {
   "cell_type": "code",
   "execution_count": 2,
   "id": "e877ad91",
   "metadata": {},
   "outputs": [],
   "source": [
    "import string\n",
    "string.punctuation\n",
    "from nltk.corpus import stopwords\n",
    "from nltk.tokenize import word_tokenize\n",
    "import nltk\n",
    "from nltk.stem import WordNetLemmatizer"
   ]
  },
  {
   "cell_type": "code",
   "execution_count": 35,
   "id": "bc9a674b",
   "metadata": {},
   "outputs": [],
   "source": [
    "exclude = string.punctuation + \"’”“\""
   ]
  },
  {
   "cell_type": "code",
   "execution_count": 36,
   "id": "0a072dc7",
   "metadata": {},
   "outputs": [
    {
     "data": {
      "text/plain": [
       "'!\"#$%&\\'()*+,-./:;<=>?@[\\\\]^_`{|}~’”“'"
      ]
     },
     "execution_count": 36,
     "metadata": {},
     "output_type": "execute_result"
    }
   ],
   "source": [
    "exclude"
   ]
  },
  {
   "cell_type": "code",
   "execution_count": 46,
   "id": "c6e752a2",
   "metadata": {},
   "outputs": [],
   "source": [
    "def clean_text(text):\n",
    "    for punctuation in exclude:\n",
    "           text = text.replace(punctuation, '')\n",
    "\n",
    "    text = text.lower()\n",
    "    text = ''.join(word for word in text if not word.isdigit())\n",
    "    stop_words = set(stopwords.words('english'))\n",
    "    word_tokens = word_tokenize(text)\n",
    "    text = [w for w in word_tokens if not w in stop_words]\n",
    "    lemmatizer = WordNetLemmatizer()\n",
    "    lemmatized = [lemmatizer.lemmatize(word) for word in text]\n",
    "    text = lemmatized\n",
    "    text = ' '.join(text)\n",
    "    return text"
   ]
  },
  {
   "cell_type": "code",
   "execution_count": 16,
   "id": "c00d01f8",
   "metadata": {},
   "outputs": [],
   "source": [
    "lyrics = \"Ooh, yeah, you did me so bad When I was in the moment \\\n",
    "Well, I didn't understand Ooh, yeah, you did me so harsh Left me low with my high heels in the parking lot Always thought I'd see it coming (Mm)But I don't \\\n",
    "Gotta leave the engine running in the front seat \\\n",
    "In my mama's winter coat \\\n",
    "I don't wanna give up on you \\\n",
    "I don't wanna, don't wanna \\\n",
    "I don't wanna have to \\\n",
    "Well, we both have nights \\\n",
    "Waking up in strangers' beds \\\n",
    "But I don't wanna, don't wanna \\\n",
    "I don't wanna give up yet\""
   ]
  },
  {
   "cell_type": "code",
   "execution_count": 55,
   "id": "12c2e160",
   "metadata": {},
   "outputs": [],
   "source": [
    "lyrics2 = \"Please save a kid that needs some helpAnd I can’t begin to think of anything that could helpBut the weed is guaranteed, indeed, just what I needHow I feel, upon a time, so recent in time, made me sadWhen I recollect how it used to beLike David and Goliath, kinda like meAnd the Devil tryna rip out my soulTryna catch a nigga on sleep, no-noYou can try again and I’ll be readyWon’t let you kill me in my dream like Freddy KruegerNo, I’m not no loser, I’ll see you in Hell[Chorus]At the end of the day, dayMy mama told me don’t let no one break me, let no one break me(Yeah, yeah, yeah, no)At the end of the day, dayNobody, nobody ever could stop me, ever could stop me(Yeah, yeah, no)At the end of the day, dayYou can’t regret it if you were trying, if you were trying(Yeah, yeah, no)At the end of the day, dayI’m walking with a heart of a lion, yeah”, “[Verse 2]Please save a kid that needs some helpAnd I can’t see ahead of me so I move in stealthHide and seek within a dream I seem to glide above my horrorThough I feel I’ll never be complete inside the dark I borrowTo proceed and remain intact my mental is so unstableAnd they talk and judge a manThey have no clue of what I’m capable’Til I show a side of me no one had thought could be withinI told you, no I’m not a loser, I’ll see you in Hell[Chorus]At the end of the day, dayMy mama told me don’t let no one break me, let no one break me(Yeah, yeah, yeah, no)At the end of the day, dayNobody, nobody ever could stop me, ever could stop me(Yeah, yeah, no)At the end of the day, dayYou can’t regret it if you were trying, if you were trying(Yeah, yeah, no)At the end of the day, dayI’m walking with a heart of a lion, yeah[Bridge]No, no, no, no, no, no, noThe heart of a lion, the heart of a lionYeah, no, yeah (Yeah)No, no, no, no, no, no, noThe heart of a lionYeah, no, yeah (Yeah)No, no, no, no, no, no, noThe heart of a lion, the heart of a lionYeah, no, yeah (Yeah)No, no, no, no, no, no, noYeah, no, yeah (Yeah)“, “[Verse 3]I’m just a kid who needs no helpI’ve achieved a bigger thingNo cash or check could be more blessedAnd if you had ever seen the things I’ve seen up in my slumberYou’d be shook, stay awakeNo need to run, your fate would followYou should know, not for the faint at heartThis world understands no cowardIt’s a goal, a simple code, I stay on the grind to the 25th hourAnd I know the fight in me is somewhere hiding deep withinI told you, no, I’ll never let you drag me down to Hell[Chorus]At the end of the day, dayMy mama told me don’t let no one break me, let no one break me(Yeah, yeah, yeah, no)At the end of the day, dayNobody, nobody ever could stop me, ever could stop me(Yeah, yeah, no)At the end of the day, dayYou can’t regret it if you were trying, if you were tryingAt the end of the day, day(Yeah, yeah, no)I’m walking with a heart of a lion, yeah”, ‘[Outro]No, no, no, no, no, no, noYeah, no, yeah (Yeah)No, no, no, no, no, no, noYeah, no, yeah (Yeah)No, no, no, no, no, no, noYeah, no, yeah (Yeah)No, no, no, no, no, no, noYeah, no, yeah (Yeah)Yeah, yeah, yeah...\""
   ]
  },
  {
   "cell_type": "code",
   "execution_count": null,
   "id": "26bd6994",
   "metadata": {},
   "outputs": [],
   "source": []
  },
  {
   "cell_type": "code",
   "execution_count": 48,
   "id": "98fbb79f",
   "metadata": {},
   "outputs": [],
   "source": [
    "lyrics2 = lyrics2.replace(\"[Chorus]\", \"\")"
   ]
  },
  {
   "cell_type": "code",
   "execution_count": 49,
   "id": "ca697558",
   "metadata": {},
   "outputs": [],
   "source": [
    "lyrics2 = lyrics2.replace(\"[Verse 2]\", \"\")"
   ]
  },
  {
   "cell_type": "code",
   "execution_count": 50,
   "id": "0fc1bb9c",
   "metadata": {},
   "outputs": [
    {
     "data": {
      "text/plain": [
       "'Please save a kid that needs some helpAnd I can’t begin to think of anything that could helpBut the weed is guaranteed, indeed, just what I needHow I feel, upon a time, so recent in time, made me sadWhen I recollect how it used to beLike David and Goliath, kinda like meAnd the Devil tryna rip out my soulTryna catch a nigga on sleep, no-noYou can try again and I’ll be readyWon’t let you kill me in my dream like Freddy KruegerNo, I’m not no loser, I’ll see you in HellAt the end of the day, dayMy mama told me don’t let no one break me, let no one break me(Yeah, yeah, yeah, no)At the end of the day, dayNobody, nobody ever could stop me, ever could stop me(Yeah, yeah, no)At the end of the day, dayYou can’t regret it if you were trying, if you were trying(Yeah, yeah, no)At the end of the day, dayI’m walking with a heart of a lion, yeah”, “Please save a kid that needs some helpAnd I can’t see ahead of me so I move in stealthHide and seek within a dream I seem to glide above my horrorThough I feel I’ll never be complete inside the dark I borrowTo proceed and remain intact my mental is so unstableAnd they talk and judge a manThey have no clue of what I’m capable’Til I show a side of me no one had thought could be withinI told you, no I’m not a loser, I’ll see you in HellAt the end of the day, dayMy mama told me don’t let no one break me, let no one break me(Yeah, yeah, yeah, no)At the end of the day, dayNobody, nobody ever could stop me, ever could stop me(Yeah, yeah, no)At the end of the day, dayYou can’t regret it if you were trying, if you were trying(Yeah, yeah, no)At the end of the day, dayI’m walking with a heart of a lion, yeah[Bridge]No, no, no, no, no, no, noThe heart of a lion, the heart of a lionYeah, no, yeah (Yeah)No, no, no, no, no, no, noThe heart of a lionYeah, no, yeah (Yeah)No, no, no, no, no, no, noThe heart of a lion, the heart of a lionYeah, no, yeah (Yeah)No, no, no, no, no, no, noYeah, no, yeah (Yeah)“, “[Verse 3]I’m just a kid who needs no helpI’ve achieved a bigger thingNo cash or check could be more blessedAnd if you had ever seen the things I’ve seen up in my slumberYou’d be shook, stay awakeNo need to run, your fate would followYou should know, not for the faint at heartThis world understands no cowardIt’s a goal, a simple code, I stay on the grind to the 25th hourAnd I know the fight in me is somewhere hiding deep withinI told you, no, I’ll never let you drag me down to HellAt the end of the day, dayMy mama told me don’t let no one break me, let no one break me(Yeah, yeah, yeah, no)At the end of the day, dayNobody, nobody ever could stop me, ever could stop me(Yeah, yeah, no)At the end of the day, dayYou can’t regret it if you were trying, if you were tryingAt the end of the day, day(Yeah, yeah, no)I’m walking with a heart of a lion, yeah”, ‘[Outro]No, no, no, no, no, no, noYeah, no, yeah (Yeah)No, no, no, no, no, no, noYeah, no, yeah (Yeah)No, no, no, no, no, no, noYeah, no, yeah (Yeah)No, no, no, no, no, no, noYeah, no, yeah (Yeah)Yeah, yeah, yeah...'"
      ]
     },
     "execution_count": 50,
     "metadata": {},
     "output_type": "execute_result"
    }
   ],
   "source": [
    "lyrics2"
   ]
  },
  {
   "cell_type": "code",
   "execution_count": 51,
   "id": "ad86fc4a",
   "metadata": {},
   "outputs": [],
   "source": [
    "import re\n",
    "lyrics2 = re.findall('[A-Z][^A-Z]*', lyrics2)"
   ]
  },
  {
   "cell_type": "code",
   "execution_count": 52,
   "id": "84c77997",
   "metadata": {},
   "outputs": [],
   "source": [
    "lyrics2 = \" \".join(lyrics2)"
   ]
  },
  {
   "cell_type": "code",
   "execution_count": 53,
   "id": "da80f734",
   "metadata": {},
   "outputs": [
    {
     "data": {
      "text/plain": [
       "'Please save a kid that needs some help And  I can’t begin to think of anything that could help But the weed is guaranteed, indeed, just what  I need How  I feel, upon a time, so recent in time, made me sad When  I recollect how it used to be Like  David and  Goliath, kinda like me And the  Devil tryna rip out my soul Tryna catch a nigga on sleep, no-no You can try again and  I’ll be ready Won’t let you kill me in my dream like  Freddy  Krueger No,  I’m not no loser,  I’ll see you in  Hell At the end of the day, day My mama told me don’t let no one break me, let no one break me( Yeah, yeah, yeah, no) At the end of the day, day Nobody, nobody ever could stop me, ever could stop me( Yeah, yeah, no) At the end of the day, day You can’t regret it if you were trying, if you were trying( Yeah, yeah, no) At the end of the day, day I’m walking with a heart of a lion, yeah”, “ Please save a kid that needs some help And  I can’t see ahead of me so  I move in stealth Hide and seek within a dream  I seem to glide above my horror Though  I feel  I’ll never be complete inside the dark  I borrow To proceed and remain intact my mental is so unstable And they talk and judge a man They have no clue of what  I’m capable’ Til  I show a side of me no one had thought could be within I told you, no  I’m not a loser,  I’ll see you in  Hell At the end of the day, day My mama told me don’t let no one break me, let no one break me( Yeah, yeah, yeah, no) At the end of the day, day Nobody, nobody ever could stop me, ever could stop me( Yeah, yeah, no) At the end of the day, day You can’t regret it if you were trying, if you were trying( Yeah, yeah, no) At the end of the day, day I’m walking with a heart of a lion, yeah[ Bridge] No, no, no, no, no, no, no The heart of a lion, the heart of a lion Yeah, no, yeah ( Yeah) No, no, no, no, no, no, no The heart of a lion Yeah, no, yeah ( Yeah) No, no, no, no, no, no, no The heart of a lion, the heart of a lion Yeah, no, yeah ( Yeah) No, no, no, no, no, no, no Yeah, no, yeah ( Yeah)“, “[ Verse 3] I’m just a kid who needs no help I’ve achieved a bigger thing No cash or check could be more blessed And if you had ever seen the things  I’ve seen up in my slumber You’d be shook, stay awake No need to run, your fate would follow You should know, not for the faint at heart This world understands no coward It’s a goal, a simple code,  I stay on the grind to the 25th hour And  I know the fight in me is somewhere hiding deep within I told you, no,  I’ll never let you drag me down to  Hell At the end of the day, day My mama told me don’t let no one break me, let no one break me( Yeah, yeah, yeah, no) At the end of the day, day Nobody, nobody ever could stop me, ever could stop me( Yeah, yeah, no) At the end of the day, day You can’t regret it if you were trying, if you were trying At the end of the day, day( Yeah, yeah, no) I’m walking with a heart of a lion, yeah”, ‘[ Outro] No, no, no, no, no, no, no Yeah, no, yeah ( Yeah) No, no, no, no, no, no, no Yeah, no, yeah ( Yeah) No, no, no, no, no, no, no Yeah, no, yeah ( Yeah) No, no, no, no, no, no, no Yeah, no, yeah ( Yeah) Yeah, yeah, yeah...'"
      ]
     },
     "execution_count": 53,
     "metadata": {},
     "output_type": "execute_result"
    }
   ],
   "source": [
    "lyrics2"
   ]
  },
  {
   "cell_type": "code",
   "execution_count": 54,
   "id": "417ef494",
   "metadata": {
    "scrolled": true
   },
   "outputs": [
    {
     "data": {
      "text/plain": [
       "'please save kid need help cant begin think anything could help weed guaranteed indeed need feel upon time recent time made sad recollect used like david goliath kinda like devil tryna rip soul tryna catch nigga sleep nono try ill ready wont let kill dream like freddy krueger im loser ill see hell end day day mama told dont let one break let one break yeah yeah yeah end day day nobody nobody ever could stop ever could stop yeah yeah end day day cant regret trying trying yeah yeah end day day im walking heart lion yeah please save kid need help cant see ahead move stealth hide seek within dream seem glide horror though feel ill never complete inside dark borrow proceed remain intact mental unstable talk judge man clue im capable til show side one thought could within told im loser ill see hell end day day mama told dont let one break let one break yeah yeah yeah end day day nobody nobody ever could stop ever could stop yeah yeah end day day cant regret trying trying yeah yeah end day day im walking heart lion yeah bridge heart lion heart lion yeah yeah yeah heart lion yeah yeah yeah heart lion heart lion yeah yeah yeah yeah yeah yeah verse im kid need help ive achieved bigger thing cash check could blessed ever seen thing ive seen slumber youd shook stay awake need run fate would follow know faint heart world understands coward goal simple code stay grind th hour know fight somewhere hiding deep within told ill never let drag hell end day day mama told dont let one break let one break yeah yeah yeah end day day nobody nobody ever could stop ever could stop yeah yeah end day day cant regret trying trying end day day yeah yeah im walking heart lion yeah ‘ outro yeah yeah yeah yeah yeah yeah yeah yeah yeah yeah yeah yeah yeah yeah yeah'"
      ]
     },
     "execution_count": 54,
     "metadata": {},
     "output_type": "execute_result"
    }
   ],
   "source": [
    "clean_text(lyrics2)"
   ]
  },
  {
   "cell_type": "code",
   "execution_count": null,
   "id": "690d266d",
   "metadata": {},
   "outputs": [],
   "source": []
  }
 ],
 "metadata": {
  "kernelspec": {
   "display_name": "Python 3 (ipykernel)",
   "language": "python",
   "name": "python3"
  },
  "language_info": {
   "codemirror_mode": {
    "name": "ipython",
    "version": 3
   },
   "file_extension": ".py",
   "mimetype": "text/x-python",
   "name": "python",
   "nbconvert_exporter": "python",
   "pygments_lexer": "ipython3",
   "version": "3.8.12"
  },
  "toc": {
   "base_numbering": 1,
   "nav_menu": {},
   "number_sections": true,
   "sideBar": true,
   "skip_h1_title": false,
   "title_cell": "Table of Contents",
   "title_sidebar": "Contents",
   "toc_cell": false,
   "toc_position": {},
   "toc_section_display": true,
   "toc_window_display": false
  }
 },
 "nbformat": 4,
 "nbformat_minor": 5
}
