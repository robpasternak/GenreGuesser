{
 "cells": [
  {
   "cell_type": "code",
   "execution_count": 2,
   "id": "19916baa",
   "metadata": {},
   "outputs": [],
   "source": [
    "import string\n",
    "string.punctuation\n",
    "from nltk.corpus import stopwords\n",
    "from nltk.tokenize import word_tokenize\n",
    "import nltk\n",
    "from nltk.stem import WordNetLemmatizer"
   ]
  },
  {
   "cell_type": "code",
   "execution_count": 13,
   "id": "26f88491",
   "metadata": {},
   "outputs": [],
   "source": [
    "def clean_text(text):\n",
    "    for punctuation in string.punctuation:\n",
    "           text = text.replace(punctuation, '')\n",
    "\n",
    "    text = text.lower()\n",
    "    text = ''.join(word for word in text if not word.isdigit())\n",
    "    stop_words = set(stopwords.words('english'))\n",
    "    word_tokens = word_tokenize(text)\n",
    "    text = [w for w in word_tokens if not w in stop_words]\n",
    "    lemmatizer = WordNetLemmatizer()\n",
    "    lemmatized = [lemmatizer.lemmatize(word) for word in text]\n",
    "    text = lemmatized\n",
    "    text = ' '.join(text)\n",
    "    return text"
   ]
  },
  {
   "cell_type": "code",
   "execution_count": 16,
   "id": "9bfeeb12",
   "metadata": {},
   "outputs": [],
   "source": [
    "lyrics = \"Ooh, yeah, you did me so bad When I was in the moment \\\n",
    "Well, I didn't understand Ooh, yeah, you did me so harsh Left me low with my high heels in the parking lot Always thought I'd see it coming (Mm)But I don't \\\n",
    "Gotta leave the engine running in the front seat \\\n",
    "In my mama's winter coat \\\n",
    "I don't wanna give up on you \\\n",
    "I don't wanna, don't wanna \\\n",
    "I don't wanna have to \\\n",
    "Well, we both have nights \\\n",
    "Waking up in strangers' beds \\\n",
    "But I don't wanna, don't wanna \\\n",
    "I don't wanna give up yet\""
   ]
  },
  {
   "cell_type": "code",
   "execution_count": 17,
   "id": "16470165",
   "metadata": {},
   "outputs": [
    {
     "data": {
      "text/plain": [
       "'ooh yeah bad moment well didnt understand ooh yeah harsh left low high heel parking lot always thought id see coming mmbut dont got ta leave engine running front seat mama winter coat dont wan na give dont wan na dont wan na dont wan na well night waking stranger bed dont wan na dont wan na dont wan na give yet'"
      ]
     },
     "execution_count": 17,
     "metadata": {},
     "output_type": "execute_result"
    }
   ],
   "source": [
    "clean_text(lyrics)"
   ]
  }
 ],
 "metadata": {
  "kernelspec": {
   "display_name": "Python 3 (ipykernel)",
   "language": "python",
   "name": "python3"
  },
  "language_info": {
   "codemirror_mode": {
    "name": "ipython",
    "version": 3
   },
   "file_extension": ".py",
   "mimetype": "text/x-python",
   "name": "python",
   "nbconvert_exporter": "python",
   "pygments_lexer": "ipython3",
   "version": "3.8.12"
  },
  "toc": {
   "base_numbering": 1,
   "nav_menu": {},
   "number_sections": true,
   "sideBar": true,
   "skip_h1_title": false,
   "title_cell": "Table of Contents",
   "title_sidebar": "Contents",
   "toc_cell": false,
   "toc_position": {},
   "toc_section_display": true,
   "toc_window_display": false
  }
 },
 "nbformat": 4,
 "nbformat_minor": 5
}
