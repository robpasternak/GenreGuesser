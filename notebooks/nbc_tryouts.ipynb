{
 "cells": [
  {
   "cell_type": "markdown",
   "id": "c379eb28",
   "metadata": {
    "heading_collapsed": true
   },
   "source": [
    "# Multinominal Naive Bayes Tryouts"
   ]
  },
  {
   "cell_type": "code",
   "execution_count": 14,
   "id": "1eb4c8a9",
   "metadata": {
    "hidden": true
   },
   "outputs": [],
   "source": [
    "import pandas as pd\n",
    "import joblib\n",
    "#from GenreGuesser.model_select import gg_cross_val\n",
    "#from GenreGuesser.model_select import gg_single_split_test\n",
    "#from GenreGuesser.model_select import gg_grid_search\n",
    "#from GenreGuesser.model_select import train_test_split\n",
    "#from GenreGuesser.pipeline import get_knn_pipe\n",
    "#from GenreGuesser.svm_pipeline import get_svm_pipe\n",
    "#from GenreGuesser.rfc_pipeline import get_rfc_pipe\n",
    "#from GenreGuesser.nbc_pipeline import get_nbc_pipe\n",
    "from sklearn.model_selection import train_test_split\n",
    "from sklearn.metrics import accuracy_score\n",
    "#from GenreGuesser.params import GENRE_DICT, DATA_SOURCE\n",
    "from imblearn.under_sampling import RandomUnderSampler\n",
    "from sklearn.pipeline import Pipeline\n",
    "from sklearn.preprocessing import FunctionTransformer\n",
    "from sklearn.feature_extraction.text import TfidfVectorizer\n",
    "from sklearn.naive_bayes import GaussianNB\n",
    "from sklearn.naive_bayes import MultinomialNB\n",
    "#from GenreGuesser.text_preproc import clean_text\n",
    "import re\n",
    "import string\n",
    "import nltk\n",
    "nltk.download('stopwords', quiet = True)\n",
    "nltk.download('punkt', quiet = True)\n",
    "nltk.download('wordnet', quiet = True)\n",
    "nltk.download('omw-1.4', quiet = True)\n",
    "from nltk.corpus import stopwords\n",
    "from nltk.corpus import words\n",
    "from nltk.tokenize import word_tokenize\n",
    "from nltk.stem import WordNetLemmatizer\n",
    "from sklearn import set_config\n",
    "set_config(display=\"diagram\")\n",
    "from sklearn.model_selection import cross_val_score\n",
    "from sklearn.model_selection import GridSearchCV"
   ]
  },
  {
   "cell_type": "markdown",
   "id": "7844656c",
   "metadata": {},
   "source": [
    "# Load full dataset"
   ]
  },
  {
   "cell_type": "code",
   "execution_count": 22,
   "id": "7a854a64",
   "metadata": {},
   "outputs": [
    {
     "name": "stdout",
     "output_type": "stream",
     "text": [
      "country    1325\n",
      "pop        1325\n",
      "rap        1325\n",
      "rock       1325\n",
      "Name: Genre, dtype: int64\n",
      "country    0.25\n",
      "pop        0.25\n",
      "rap        0.25\n",
      "rock       0.25\n",
      "Name: Genre, dtype: float64\n"
     ]
    }
   ],
   "source": [
    "# Dictionary for translating from MusicBrainz genre code to English\n",
    "GENRE_DICT = {\n",
    "    '100' : 'rap',\n",
    "    100 : 'rap',\n",
    "    '73' : 'pop',\n",
    "    73 : 'pop',\n",
    "    '38' : 'country',\n",
    "    38 : 'country',\n",
    "    '114' : 'rock',\n",
    "    114 : 'rock',\n",
    "    '57' : 'folk',\n",
    "    57 : 'folk',\n",
    "    '62' : 'jazz',\n",
    "    62 : 'jazz',\n",
    "    'smooth-jazz': 'jazz',\n",
    "    }\n",
    "\n",
    "# Read in the data, clean it, and restrict to the right genres\n",
    "data = pd.read_csv('/Users/julia_welch/code/GenreGuesser/raw_data/full_df.csv')\n",
    "data['Genre'] = data['Genre'].apply(lambda x : GENRE_DICT[x] if x in GENRE_DICT.keys() else x)\n",
    "data = data.dropna()\n",
    "data = data[data['Genre'].isin(['rap', 'country', 'rock', 'pop'])]\n",
    "\n",
    "# Set the X and y values accordingly.\n",
    "# X values are just strings of lyrics (will be vectorized in pipeline),\n",
    "# y values are strings indicating a genre.\n",
    "X = data[['Lyrics']]\n",
    "y = data['Genre']\n",
    "\n",
    "# Uncomment the following lines to undersample pop, rock, and country to 1800\n",
    "rus = RandomUnderSampler(random_state = 42)\n",
    "X, y = rus.fit_resample(X,y)\n",
    "X = X['Lyrics']\n",
    "\n",
    "# Split 80-20 into training/validation and test data (reliably with a fixed random state)\n",
    "X_tv, X_test, y_tv, y_test = train_test_split(X, y, test_size = .2, random_state = 42)\n",
    "\n",
    "# Uncomment the following line to see how many songs from each genre are in the data set\n",
    "print(y.value_counts())\n",
    "\n",
    "# Uncomment the following line to see the proportion of songs from each genre in the\n",
    "# data set\n",
    "print(y.value_counts(normalize = True))"
   ]
  },
  {
   "cell_type": "markdown",
   "id": "bc782fe4",
   "metadata": {},
   "source": [
    "# NBC Pipeline"
   ]
  },
  {
   "cell_type": "markdown",
   "id": "d2588302",
   "metadata": {},
   "source": [
    "## Preprocessing"
   ]
  },
  {
   "cell_type": "code",
   "execution_count": 23,
   "id": "a6f5285c",
   "metadata": {},
   "outputs": [],
   "source": [
    "def clean_text(text):\n",
    "    #remove 'е'\n",
    "    text = text.replace('е', 'e')\n",
    "\n",
    "    #remove headers like [Chorus] etc\n",
    "    headers = re.findall(r\"\\[(.*?)\\]\", text)\n",
    "    for header in headers:\n",
    "        text = text.replace(f'[{header}]', ' ')\n",
    "\n",
    "    #separate lower/upper case words (like 'needHow')\n",
    "    cap_sep_find = r'([a-z])([A-Z])'\n",
    "    cap_sep_replace = r'\\1 \\2'\n",
    "    text = re.sub(cap_sep_find, cap_sep_replace, text)\n",
    "\n",
    "    #remove punctuation\n",
    "    exclude = string.punctuation + \"’‘”“\"\n",
    "    for punctuation in exclude:\n",
    "           text = text.replace(punctuation, ' ')\n",
    "\n",
    "    #turn text into lowercase\n",
    "    text = text.lower()\n",
    "\n",
    "    #remove numericals\n",
    "    text = ''.join(word for word in text if not word.isdigit())\n",
    "\n",
    "    #remove stopwords\n",
    "    stop_words = set(stopwords.words('english'))\n",
    "\n",
    "    #tokenise\n",
    "    word_tokens = word_tokenize(text)\n",
    "    text = [w for w in word_tokens if not w in stop_words]\n",
    "\n",
    "    #lemmatise\n",
    "    lemmatizer = WordNetLemmatizer()\n",
    "    lemmatized = [lemmatizer.lemmatize(word) for word in text]\n",
    "    text = lemmatized\n",
    "\n",
    "    #filter out non-ascii words\n",
    "    words_set = set(words.words())\n",
    "    safe_set = set(['cliché', 'rosé', 'déjà', 'ménage',  'yoncé', 'beyoncé', 'café', 'crème', 'señor', 'señorita'])\n",
    "    ascii_list = []\n",
    "    for word in text:\n",
    "        if word in words_set or word.isascii() or word in safe_set:\n",
    "            ascii_list.append(word)\n",
    "    text = ' '.join(ascii_list)\n",
    "\n",
    "    #rejoin \"wan na\"/\"gon na\" to \"wanna\"/\"gonna\"\n",
    "    wannas = re.findall(r\"wan na\", text)\n",
    "    gonnas = re.findall(r\"gon na\", text)\n",
    "    gottas = re.findall(r\"got ta\", text)\n",
    "\n",
    "    for wanna in wannas:\n",
    "        text = text.replace(wanna, \"wanna\")\n",
    "\n",
    "    for gonna in gonnas:\n",
    "        text = text.replace(gonna, \"gonna\")\n",
    "\n",
    "    for gotta in gottas:\n",
    "        text = text.replace(gotta, \"gotta\")\n",
    "\n",
    "    return text"
   ]
  },
  {
   "cell_type": "code",
   "execution_count": 24,
   "id": "320c9815",
   "metadata": {},
   "outputs": [],
   "source": [
    "def format_func(X_in):\n",
    "    '''\n",
    "    Transformer function that cleans text,\n",
    "    integrated as first step of pipeline\n",
    "    '''\n",
    "    X_out = X_in.apply(clean_text)\n",
    "    return X_out\n",
    "\n",
    "# Create Pipeline, which has the following three steps:\n",
    "#   - Clean text (remove things like '[VERSE 1]', lemmatize, etc.)\n",
    "#   - TF-IDF Vectorize\n",
    "#   - Gaussian/MultinomialNB NaiveBayes classifier\n",
    "def get_nbc_pipe():\n",
    "    format_transform = FunctionTransformer(format_func)\n",
    "    nbc_pipe = Pipeline([\n",
    "        ('format_transform', format_transform),\n",
    "        ('tfidf', TfidfVectorizer()),\n",
    "        ('nbc', MultinomialNB()),\n",
    "    ])\n",
    "\n",
    "    return nbc_pipe"
   ]
  },
  {
   "cell_type": "code",
   "execution_count": 25,
   "id": "6e9cd0b3",
   "metadata": {},
   "outputs": [
    {
     "data": {
      "text/html": [
       "<style>#sk-4a92431b-f820-45a4-898e-fd2eb2133073 {color: black;background-color: white;}#sk-4a92431b-f820-45a4-898e-fd2eb2133073 pre{padding: 0;}#sk-4a92431b-f820-45a4-898e-fd2eb2133073 div.sk-toggleable {background-color: white;}#sk-4a92431b-f820-45a4-898e-fd2eb2133073 label.sk-toggleable__label {cursor: pointer;display: block;width: 100%;margin-bottom: 0;padding: 0.3em;box-sizing: border-box;text-align: center;}#sk-4a92431b-f820-45a4-898e-fd2eb2133073 label.sk-toggleable__label-arrow:before {content: \"▸\";float: left;margin-right: 0.25em;color: #696969;}#sk-4a92431b-f820-45a4-898e-fd2eb2133073 label.sk-toggleable__label-arrow:hover:before {color: black;}#sk-4a92431b-f820-45a4-898e-fd2eb2133073 div.sk-estimator:hover label.sk-toggleable__label-arrow:before {color: black;}#sk-4a92431b-f820-45a4-898e-fd2eb2133073 div.sk-toggleable__content {max-height: 0;max-width: 0;overflow: hidden;text-align: left;background-color: #f0f8ff;}#sk-4a92431b-f820-45a4-898e-fd2eb2133073 div.sk-toggleable__content pre {margin: 0.2em;color: black;border-radius: 0.25em;background-color: #f0f8ff;}#sk-4a92431b-f820-45a4-898e-fd2eb2133073 input.sk-toggleable__control:checked~div.sk-toggleable__content {max-height: 200px;max-width: 100%;overflow: auto;}#sk-4a92431b-f820-45a4-898e-fd2eb2133073 input.sk-toggleable__control:checked~label.sk-toggleable__label-arrow:before {content: \"▾\";}#sk-4a92431b-f820-45a4-898e-fd2eb2133073 div.sk-estimator input.sk-toggleable__control:checked~label.sk-toggleable__label {background-color: #d4ebff;}#sk-4a92431b-f820-45a4-898e-fd2eb2133073 div.sk-label input.sk-toggleable__control:checked~label.sk-toggleable__label {background-color: #d4ebff;}#sk-4a92431b-f820-45a4-898e-fd2eb2133073 input.sk-hidden--visually {border: 0;clip: rect(1px 1px 1px 1px);clip: rect(1px, 1px, 1px, 1px);height: 1px;margin: -1px;overflow: hidden;padding: 0;position: absolute;width: 1px;}#sk-4a92431b-f820-45a4-898e-fd2eb2133073 div.sk-estimator {font-family: monospace;background-color: #f0f8ff;border: 1px dotted black;border-radius: 0.25em;box-sizing: border-box;margin-bottom: 0.5em;}#sk-4a92431b-f820-45a4-898e-fd2eb2133073 div.sk-estimator:hover {background-color: #d4ebff;}#sk-4a92431b-f820-45a4-898e-fd2eb2133073 div.sk-parallel-item::after {content: \"\";width: 100%;border-bottom: 1px solid gray;flex-grow: 1;}#sk-4a92431b-f820-45a4-898e-fd2eb2133073 div.sk-label:hover label.sk-toggleable__label {background-color: #d4ebff;}#sk-4a92431b-f820-45a4-898e-fd2eb2133073 div.sk-serial::before {content: \"\";position: absolute;border-left: 1px solid gray;box-sizing: border-box;top: 2em;bottom: 0;left: 50%;}#sk-4a92431b-f820-45a4-898e-fd2eb2133073 div.sk-serial {display: flex;flex-direction: column;align-items: center;background-color: white;padding-right: 0.2em;padding-left: 0.2em;}#sk-4a92431b-f820-45a4-898e-fd2eb2133073 div.sk-item {z-index: 1;}#sk-4a92431b-f820-45a4-898e-fd2eb2133073 div.sk-parallel {display: flex;align-items: stretch;justify-content: center;background-color: white;}#sk-4a92431b-f820-45a4-898e-fd2eb2133073 div.sk-parallel::before {content: \"\";position: absolute;border-left: 1px solid gray;box-sizing: border-box;top: 2em;bottom: 0;left: 50%;}#sk-4a92431b-f820-45a4-898e-fd2eb2133073 div.sk-parallel-item {display: flex;flex-direction: column;position: relative;background-color: white;}#sk-4a92431b-f820-45a4-898e-fd2eb2133073 div.sk-parallel-item:first-child::after {align-self: flex-end;width: 50%;}#sk-4a92431b-f820-45a4-898e-fd2eb2133073 div.sk-parallel-item:last-child::after {align-self: flex-start;width: 50%;}#sk-4a92431b-f820-45a4-898e-fd2eb2133073 div.sk-parallel-item:only-child::after {width: 0;}#sk-4a92431b-f820-45a4-898e-fd2eb2133073 div.sk-dashed-wrapped {border: 1px dashed gray;margin: 0 0.4em 0.5em 0.4em;box-sizing: border-box;padding-bottom: 0.4em;background-color: white;position: relative;}#sk-4a92431b-f820-45a4-898e-fd2eb2133073 div.sk-label label {font-family: monospace;font-weight: bold;background-color: white;display: inline-block;line-height: 1.2em;}#sk-4a92431b-f820-45a4-898e-fd2eb2133073 div.sk-label-container {position: relative;z-index: 2;text-align: center;}#sk-4a92431b-f820-45a4-898e-fd2eb2133073 div.sk-container {/* jupyter's `normalize.less` sets `[hidden] { display: none; }` but bootstrap.min.css set `[hidden] { display: none !important; }` so we also need the `!important` here to be able to override the default hidden behavior on the sphinx rendered scikit-learn.org. See: https://github.com/scikit-learn/scikit-learn/issues/21755 */display: inline-block !important;position: relative;}#sk-4a92431b-f820-45a4-898e-fd2eb2133073 div.sk-text-repr-fallback {display: none;}</style><div id=\"sk-4a92431b-f820-45a4-898e-fd2eb2133073\" class=\"sk-top-container\"><div class=\"sk-text-repr-fallback\"><pre>Pipeline(steps=[(&#x27;format_transform&#x27;,\n",
       "                 FunctionTransformer(func=&lt;function format_func at 0x139e68280&gt;)),\n",
       "                (&#x27;tfidf&#x27;, TfidfVectorizer()), (&#x27;nbc&#x27;, MultinomialNB())])</pre><b>Please rerun this cell to show the HTML repr or trust the notebook.</b></div><div class=\"sk-container\" hidden><div class=\"sk-item sk-dashed-wrapped\"><div class=\"sk-label-container\"><div class=\"sk-label sk-toggleable\"><input class=\"sk-toggleable__control sk-hidden--visually\" id=\"a33a8683-dceb-40d6-8866-632c6e02d17e\" type=\"checkbox\" ><label for=\"a33a8683-dceb-40d6-8866-632c6e02d17e\" class=\"sk-toggleable__label sk-toggleable__label-arrow\">Pipeline</label><div class=\"sk-toggleable__content\"><pre>Pipeline(steps=[(&#x27;format_transform&#x27;,\n",
       "                 FunctionTransformer(func=&lt;function format_func at 0x139e68280&gt;)),\n",
       "                (&#x27;tfidf&#x27;, TfidfVectorizer()), (&#x27;nbc&#x27;, MultinomialNB())])</pre></div></div></div><div class=\"sk-serial\"><div class=\"sk-item\"><div class=\"sk-estimator sk-toggleable\"><input class=\"sk-toggleable__control sk-hidden--visually\" id=\"a687fd66-a74a-4e15-b7c8-f15cab9321b1\" type=\"checkbox\" ><label for=\"a687fd66-a74a-4e15-b7c8-f15cab9321b1\" class=\"sk-toggleable__label sk-toggleable__label-arrow\">FunctionTransformer</label><div class=\"sk-toggleable__content\"><pre>FunctionTransformer(func=&lt;function format_func at 0x139e68280&gt;)</pre></div></div></div><div class=\"sk-item\"><div class=\"sk-estimator sk-toggleable\"><input class=\"sk-toggleable__control sk-hidden--visually\" id=\"05c9f971-0015-420b-ae11-a58e603dae80\" type=\"checkbox\" ><label for=\"05c9f971-0015-420b-ae11-a58e603dae80\" class=\"sk-toggleable__label sk-toggleable__label-arrow\">TfidfVectorizer</label><div class=\"sk-toggleable__content\"><pre>TfidfVectorizer()</pre></div></div></div><div class=\"sk-item\"><div class=\"sk-estimator sk-toggleable\"><input class=\"sk-toggleable__control sk-hidden--visually\" id=\"59190f16-6aa3-4c58-b468-85643883009c\" type=\"checkbox\" ><label for=\"59190f16-6aa3-4c58-b468-85643883009c\" class=\"sk-toggleable__label sk-toggleable__label-arrow\">MultinomialNB</label><div class=\"sk-toggleable__content\"><pre>MultinomialNB()</pre></div></div></div></div></div></div></div>"
      ],
      "text/plain": [
       "Pipeline(steps=[('format_transform',\n",
       "                 FunctionTransformer(func=<function format_func at 0x139e68280>)),\n",
       "                ('tfidf', TfidfVectorizer()), ('nbc', MultinomialNB())])"
      ]
     },
     "execution_count": 25,
     "metadata": {},
     "output_type": "execute_result"
    }
   ],
   "source": [
    "pipe = get_nbc_pipe()\n",
    "pipe"
   ]
  },
  {
   "cell_type": "markdown",
   "id": "bdbe1605",
   "metadata": {},
   "source": [
    "## Train Pipeline"
   ]
  },
  {
   "cell_type": "code",
   "execution_count": 26,
   "id": "3574b2b9",
   "metadata": {
    "scrolled": true
   },
   "outputs": [
    {
     "name": "stdout",
     "output_type": "stream",
     "text": [
      "CPU times: user 9min 53s, sys: 43.8 s, total: 10min 37s\n",
      "Wall time: 10min 49s\n"
     ]
    },
    {
     "data": {
      "text/html": [
       "<style>#sk-b3eddbb9-c30e-4e03-9989-9da966d2275e {color: black;background-color: white;}#sk-b3eddbb9-c30e-4e03-9989-9da966d2275e pre{padding: 0;}#sk-b3eddbb9-c30e-4e03-9989-9da966d2275e div.sk-toggleable {background-color: white;}#sk-b3eddbb9-c30e-4e03-9989-9da966d2275e label.sk-toggleable__label {cursor: pointer;display: block;width: 100%;margin-bottom: 0;padding: 0.3em;box-sizing: border-box;text-align: center;}#sk-b3eddbb9-c30e-4e03-9989-9da966d2275e label.sk-toggleable__label-arrow:before {content: \"▸\";float: left;margin-right: 0.25em;color: #696969;}#sk-b3eddbb9-c30e-4e03-9989-9da966d2275e label.sk-toggleable__label-arrow:hover:before {color: black;}#sk-b3eddbb9-c30e-4e03-9989-9da966d2275e div.sk-estimator:hover label.sk-toggleable__label-arrow:before {color: black;}#sk-b3eddbb9-c30e-4e03-9989-9da966d2275e div.sk-toggleable__content {max-height: 0;max-width: 0;overflow: hidden;text-align: left;background-color: #f0f8ff;}#sk-b3eddbb9-c30e-4e03-9989-9da966d2275e div.sk-toggleable__content pre {margin: 0.2em;color: black;border-radius: 0.25em;background-color: #f0f8ff;}#sk-b3eddbb9-c30e-4e03-9989-9da966d2275e input.sk-toggleable__control:checked~div.sk-toggleable__content {max-height: 200px;max-width: 100%;overflow: auto;}#sk-b3eddbb9-c30e-4e03-9989-9da966d2275e input.sk-toggleable__control:checked~label.sk-toggleable__label-arrow:before {content: \"▾\";}#sk-b3eddbb9-c30e-4e03-9989-9da966d2275e div.sk-estimator input.sk-toggleable__control:checked~label.sk-toggleable__label {background-color: #d4ebff;}#sk-b3eddbb9-c30e-4e03-9989-9da966d2275e div.sk-label input.sk-toggleable__control:checked~label.sk-toggleable__label {background-color: #d4ebff;}#sk-b3eddbb9-c30e-4e03-9989-9da966d2275e input.sk-hidden--visually {border: 0;clip: rect(1px 1px 1px 1px);clip: rect(1px, 1px, 1px, 1px);height: 1px;margin: -1px;overflow: hidden;padding: 0;position: absolute;width: 1px;}#sk-b3eddbb9-c30e-4e03-9989-9da966d2275e div.sk-estimator {font-family: monospace;background-color: #f0f8ff;border: 1px dotted black;border-radius: 0.25em;box-sizing: border-box;margin-bottom: 0.5em;}#sk-b3eddbb9-c30e-4e03-9989-9da966d2275e div.sk-estimator:hover {background-color: #d4ebff;}#sk-b3eddbb9-c30e-4e03-9989-9da966d2275e div.sk-parallel-item::after {content: \"\";width: 100%;border-bottom: 1px solid gray;flex-grow: 1;}#sk-b3eddbb9-c30e-4e03-9989-9da966d2275e div.sk-label:hover label.sk-toggleable__label {background-color: #d4ebff;}#sk-b3eddbb9-c30e-4e03-9989-9da966d2275e div.sk-serial::before {content: \"\";position: absolute;border-left: 1px solid gray;box-sizing: border-box;top: 2em;bottom: 0;left: 50%;}#sk-b3eddbb9-c30e-4e03-9989-9da966d2275e div.sk-serial {display: flex;flex-direction: column;align-items: center;background-color: white;padding-right: 0.2em;padding-left: 0.2em;}#sk-b3eddbb9-c30e-4e03-9989-9da966d2275e div.sk-item {z-index: 1;}#sk-b3eddbb9-c30e-4e03-9989-9da966d2275e div.sk-parallel {display: flex;align-items: stretch;justify-content: center;background-color: white;}#sk-b3eddbb9-c30e-4e03-9989-9da966d2275e div.sk-parallel::before {content: \"\";position: absolute;border-left: 1px solid gray;box-sizing: border-box;top: 2em;bottom: 0;left: 50%;}#sk-b3eddbb9-c30e-4e03-9989-9da966d2275e div.sk-parallel-item {display: flex;flex-direction: column;position: relative;background-color: white;}#sk-b3eddbb9-c30e-4e03-9989-9da966d2275e div.sk-parallel-item:first-child::after {align-self: flex-end;width: 50%;}#sk-b3eddbb9-c30e-4e03-9989-9da966d2275e div.sk-parallel-item:last-child::after {align-self: flex-start;width: 50%;}#sk-b3eddbb9-c30e-4e03-9989-9da966d2275e div.sk-parallel-item:only-child::after {width: 0;}#sk-b3eddbb9-c30e-4e03-9989-9da966d2275e div.sk-dashed-wrapped {border: 1px dashed gray;margin: 0 0.4em 0.5em 0.4em;box-sizing: border-box;padding-bottom: 0.4em;background-color: white;position: relative;}#sk-b3eddbb9-c30e-4e03-9989-9da966d2275e div.sk-label label {font-family: monospace;font-weight: bold;background-color: white;display: inline-block;line-height: 1.2em;}#sk-b3eddbb9-c30e-4e03-9989-9da966d2275e div.sk-label-container {position: relative;z-index: 2;text-align: center;}#sk-b3eddbb9-c30e-4e03-9989-9da966d2275e div.sk-container {/* jupyter's `normalize.less` sets `[hidden] { display: none; }` but bootstrap.min.css set `[hidden] { display: none !important; }` so we also need the `!important` here to be able to override the default hidden behavior on the sphinx rendered scikit-learn.org. See: https://github.com/scikit-learn/scikit-learn/issues/21755 */display: inline-block !important;position: relative;}#sk-b3eddbb9-c30e-4e03-9989-9da966d2275e div.sk-text-repr-fallback {display: none;}</style><div id=\"sk-b3eddbb9-c30e-4e03-9989-9da966d2275e\" class=\"sk-top-container\"><div class=\"sk-text-repr-fallback\"><pre>Pipeline(steps=[(&#x27;format_transform&#x27;,\n",
       "                 FunctionTransformer(func=&lt;function format_func at 0x139e68280&gt;)),\n",
       "                (&#x27;tfidf&#x27;, TfidfVectorizer()), (&#x27;nbc&#x27;, MultinomialNB())])</pre><b>Please rerun this cell to show the HTML repr or trust the notebook.</b></div><div class=\"sk-container\" hidden><div class=\"sk-item sk-dashed-wrapped\"><div class=\"sk-label-container\"><div class=\"sk-label sk-toggleable\"><input class=\"sk-toggleable__control sk-hidden--visually\" id=\"1bb215ca-582e-48ec-9a1a-38ce58f2cee5\" type=\"checkbox\" ><label for=\"1bb215ca-582e-48ec-9a1a-38ce58f2cee5\" class=\"sk-toggleable__label sk-toggleable__label-arrow\">Pipeline</label><div class=\"sk-toggleable__content\"><pre>Pipeline(steps=[(&#x27;format_transform&#x27;,\n",
       "                 FunctionTransformer(func=&lt;function format_func at 0x139e68280&gt;)),\n",
       "                (&#x27;tfidf&#x27;, TfidfVectorizer()), (&#x27;nbc&#x27;, MultinomialNB())])</pre></div></div></div><div class=\"sk-serial\"><div class=\"sk-item\"><div class=\"sk-estimator sk-toggleable\"><input class=\"sk-toggleable__control sk-hidden--visually\" id=\"4a80a59b-a26b-4452-9fcc-35355a4252e7\" type=\"checkbox\" ><label for=\"4a80a59b-a26b-4452-9fcc-35355a4252e7\" class=\"sk-toggleable__label sk-toggleable__label-arrow\">FunctionTransformer</label><div class=\"sk-toggleable__content\"><pre>FunctionTransformer(func=&lt;function format_func at 0x139e68280&gt;)</pre></div></div></div><div class=\"sk-item\"><div class=\"sk-estimator sk-toggleable\"><input class=\"sk-toggleable__control sk-hidden--visually\" id=\"02e8aacc-9dfa-4519-a596-94cc5e8fee11\" type=\"checkbox\" ><label for=\"02e8aacc-9dfa-4519-a596-94cc5e8fee11\" class=\"sk-toggleable__label sk-toggleable__label-arrow\">TfidfVectorizer</label><div class=\"sk-toggleable__content\"><pre>TfidfVectorizer()</pre></div></div></div><div class=\"sk-item\"><div class=\"sk-estimator sk-toggleable\"><input class=\"sk-toggleable__control sk-hidden--visually\" id=\"0c0470ac-cb16-49b1-8ab3-335f7a9106bf\" type=\"checkbox\" ><label for=\"0c0470ac-cb16-49b1-8ab3-335f7a9106bf\" class=\"sk-toggleable__label sk-toggleable__label-arrow\">MultinomialNB</label><div class=\"sk-toggleable__content\"><pre>MultinomialNB()</pre></div></div></div></div></div></div></div>"
      ],
      "text/plain": [
       "Pipeline(steps=[('format_transform',\n",
       "                 FunctionTransformer(func=<function format_func at 0x139e68280>)),\n",
       "                ('tfidf', TfidfVectorizer()), ('nbc', MultinomialNB())])"
      ]
     },
     "execution_count": 26,
     "metadata": {},
     "output_type": "execute_result"
    }
   ],
   "source": [
    "%%time\n",
    "pipe.fit(X_tv, y_tv)"
   ]
  },
  {
   "cell_type": "code",
   "execution_count": 27,
   "id": "9eb032aa",
   "metadata": {},
   "outputs": [
    {
     "data": {
      "text/plain": [
       "array([[0.30505371, 0.22014876, 0.17104121, 0.30375633],\n",
       "       [0.22742592, 0.15824298, 0.51790435, 0.09642676]])"
      ]
     },
     "execution_count": 27,
     "metadata": {},
     "output_type": "execute_result"
    }
   ],
   "source": [
    "# Make predictions\n",
    "pipe.predict_proba(X_test.iloc[0:2])"
   ]
  },
  {
   "cell_type": "code",
   "execution_count": 28,
   "id": "9186e347",
   "metadata": {},
   "outputs": [
    {
     "name": "stdout",
     "output_type": "stream",
     "text": [
      "CPU times: user 2min 13s, sys: 12.1 s, total: 2min 25s\n",
      "Wall time: 2min 28s\n"
     ]
    },
    {
     "data": {
      "text/plain": [
       "0.6452830188679245"
      ]
     },
     "execution_count": 28,
     "metadata": {},
     "output_type": "execute_result"
    }
   ],
   "source": [
    "%%time\n",
    "# Score model\n",
    "pipe.score(X_test,y_test)"
   ]
  },
  {
   "cell_type": "markdown",
   "id": "baa78f4a",
   "metadata": {},
   "source": [
    "## Cross-validate Pipeline"
   ]
  },
  {
   "cell_type": "code",
   "execution_count": 29,
   "id": "55b273d7",
   "metadata": {},
   "outputs": [
    {
     "name": "stdout",
     "output_type": "stream",
     "text": [
      "CPU times: user 50min 15s, sys: 4min 33s, total: 54min 48s\n",
      "Wall time: 56min 5s\n"
     ]
    },
    {
     "data": {
      "text/plain": [
       "0.5962264150943396"
      ]
     },
     "execution_count": 29,
     "metadata": {},
     "output_type": "execute_result"
    }
   ],
   "source": [
    "%%time\n",
    "# Cross validate pipeline\n",
    "cross_val_score(pipe, X_tv, y_tv, cv=5, scoring='accuracy').mean()"
   ]
  },
  {
   "cell_type": "markdown",
   "id": "777c17f7",
   "metadata": {},
   "source": [
    "## GridSearch Pipeline"
   ]
  },
  {
   "cell_type": "code",
   "execution_count": 30,
   "id": "1e2f92d5",
   "metadata": {},
   "outputs": [
    {
     "data": {
      "text/plain": [
       "{'memory': None,\n",
       " 'steps': [('format_transform',\n",
       "   FunctionTransformer(func=<function format_func at 0x139e68280>)),\n",
       "  ('tfidf', TfidfVectorizer()),\n",
       "  ('nbc', MultinomialNB())],\n",
       " 'verbose': False,\n",
       " 'format_transform': FunctionTransformer(func=<function format_func at 0x139e68280>),\n",
       " 'tfidf': TfidfVectorizer(),\n",
       " 'nbc': MultinomialNB(),\n",
       " 'format_transform__accept_sparse': False,\n",
       " 'format_transform__check_inverse': True,\n",
       " 'format_transform__func': <function __main__.format_func(X_in)>,\n",
       " 'format_transform__inv_kw_args': None,\n",
       " 'format_transform__inverse_func': None,\n",
       " 'format_transform__kw_args': None,\n",
       " 'format_transform__validate': False,\n",
       " 'tfidf__analyzer': 'word',\n",
       " 'tfidf__binary': False,\n",
       " 'tfidf__decode_error': 'strict',\n",
       " 'tfidf__dtype': numpy.float64,\n",
       " 'tfidf__encoding': 'utf-8',\n",
       " 'tfidf__input': 'content',\n",
       " 'tfidf__lowercase': True,\n",
       " 'tfidf__max_df': 1.0,\n",
       " 'tfidf__max_features': None,\n",
       " 'tfidf__min_df': 1,\n",
       " 'tfidf__ngram_range': (1, 1),\n",
       " 'tfidf__norm': 'l2',\n",
       " 'tfidf__preprocessor': None,\n",
       " 'tfidf__smooth_idf': True,\n",
       " 'tfidf__stop_words': None,\n",
       " 'tfidf__strip_accents': None,\n",
       " 'tfidf__sublinear_tf': False,\n",
       " 'tfidf__token_pattern': '(?u)\\\\b\\\\w\\\\w+\\\\b',\n",
       " 'tfidf__tokenizer': None,\n",
       " 'tfidf__use_idf': True,\n",
       " 'tfidf__vocabulary': None,\n",
       " 'nbc__alpha': 1.0,\n",
       " 'nbc__class_prior': None,\n",
       " 'nbc__fit_prior': True}"
      ]
     },
     "execution_count": 30,
     "metadata": {},
     "output_type": "execute_result"
    },
    {
     "name": "stdout",
     "output_type": "stream",
     "text": [
      "ERROR! Session/line number was not unique in database. History logging moved to new session 384\n"
     ]
    }
   ],
   "source": [
    "# Inspect all pipe components parameters to find the one you want to gridsearch\n",
    "pipe.get_params()"
   ]
  },
  {
   "cell_type": "code",
   "execution_count": 31,
   "id": "14f6ae74",
   "metadata": {},
   "outputs": [],
   "source": [
    "#%%time\n",
    "# Instanciate grid search\n",
    "#grid_search = GridSearchCV(\n",
    "#    pipe, \n",
    "#    param_grid={\n",
    "#        # Access any component of the pipeline, as far back as you want\n",
    "#        'tfidf__max_df': [0.5, 0.8, 1.0],\n",
    "#        'tfidf__min_df': [0.5, 0.8, 1.0],\n",
    "#        'tfidf__ngram_range': ((1,1), (2,2)),\n",
    "#        'nbc__alpha': [0.1, 0.5, 1]},\n",
    "#    n_jobs=-1,\n",
    "#    verbose=1,\n",
    "#    cv=5,\n",
    "#    refit=True,\n",
    "#    scoring=\"accuracy\")\n",
    "#\n",
    "#grid_search.fit(X_tv, y_tv)"
   ]
  },
  {
   "cell_type": "code",
   "execution_count": null,
   "id": "d26bf288",
   "metadata": {},
   "outputs": [],
   "source": [
    "grid_search.best_params_"
   ]
  },
  {
   "cell_type": "code",
   "execution_count": null,
   "id": "e752aa50",
   "metadata": {},
   "outputs": [],
   "source": [
    "grid_search.best_estimator_"
   ]
  },
  {
   "cell_type": "code",
   "execution_count": null,
   "id": "e521a8bc",
   "metadata": {},
   "outputs": [],
   "source": []
  }
 ],
 "metadata": {
  "kernelspec": {
   "display_name": "Python 3 (ipykernel)",
   "language": "python",
   "name": "python3"
  },
  "language_info": {
   "codemirror_mode": {
    "name": "ipython",
    "version": 3
   },
   "file_extension": ".py",
   "mimetype": "text/x-python",
   "name": "python",
   "nbconvert_exporter": "python",
   "pygments_lexer": "ipython3",
   "version": "3.8.12"
  },
  "toc": {
   "base_numbering": 1,
   "nav_menu": {},
   "number_sections": true,
   "sideBar": true,
   "skip_h1_title": false,
   "title_cell": "Table of Contents",
   "title_sidebar": "Contents",
   "toc_cell": false,
   "toc_position": {},
   "toc_section_display": true,
   "toc_window_display": false
  }
 },
 "nbformat": 4,
 "nbformat_minor": 5
}
